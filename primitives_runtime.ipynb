{
 "cells": [
  {
   "cell_type": "code",
   "execution_count": 2,
   "id": "1441d725-15b8-4692-a8cd-be4556e3c5c9",
   "metadata": {},
   "outputs": [],
   "source": [
    "# importing libraries \n",
    "import numpy as np\n",
    "from uncertainties import ufloat\n",
    "import matplotlib.pyplot as plt\n",
    "\n",
    "# standard Qiskit libraries\n",
    "from qiskit import QuantumCircuit, transpile, Aer, IBMQ\n",
    "from qiskit.tools.jupyter import *\n",
    "from qiskit.visualization import *\n",
    "from ibm_quantum_widgets import *\n",
    "from qiskit.providers.aer import QasmSimulator\n",
    "from qiskit.opflow.primitive_ops import PauliSumOp\n",
    "from qiskit.providers.aer import AerSimulator\n",
    "from qiskit.opflow import Z,I,X\n",
    "from qiskit.circuit.library import EfficientSU2\n",
    "from qiskit.algorithms.optimizers import SPSA,  COBYLA\n",
    "from qiskit.providers.basicaer import QasmSimulatorPy  # local simulator \n",
    "from qiskit.algorithms import NumPyMinimumEigensolver\n",
    "from qiskit.algorithms.minimum_eigensolvers import VQE\n",
    "import matplotlib.pyplot as plt\n",
    "\n",
    "# noise model object\n",
    "from qiskit.providers.aer.noise import NoiseModel\n",
    "# standard errors\n",
    "from qiskit.providers.aer.noise.errors import *  \n",
    "# noise base classes\n",
    "from qiskit.providers.aer.noise.errors.quantum_error import QuantumError\n",
    "# NECESSARY LIBRARIES FOR PRIMITIVES \n",
    "from qiskit_ibm_runtime import QiskitRuntimeService, Estimator, Session, Options"
   ]
  },
  {
   "cell_type": "markdown",
   "id": "4613fd8b-862c-459e-8357-5612d4ba200a",
   "metadata": {},
   "source": [
    "### FUNCTIONS DEFINITION"
   ]
  },
  {
   "cell_type": "code",
   "execution_count": 2,
   "id": "caf25142-023b-4726-a97c-30bc7e6598b6",
   "metadata": {},
   "outputs": [],
   "source": [
    "def ham_generator(N,h,J):\n",
    "    H=0\n",
    "    \n",
    "    # field term\n",
    "    for i in range (N):\n",
    "        H+= h*((I^(i))^(Z)^(I^(N-i-1))) \n",
    "    # interaction term\n",
    "    for k in range(N-1):\n",
    "        H+= J*((I^(k))^(X^X)^(I^(N-k-2)))\n",
    "    # PBC\n",
    "    H+= J*((X)^(I^(N-2))^(X))           \n",
    "    return H    \n",
    "\n",
    "#function that calculates the forward derivative\n",
    "def f_derivative(a,b,en,npoints):\n",
    "\n",
    "    step = (b-a)/(npoints-1)\n",
    "    for i in range(npoints):\n",
    "        if a + i*step == 0:\n",
    "            print('zero found in position >>', i)\n",
    "            z=i\n",
    "            break\n",
    "    fd = (en[z+1]-en[z])/(step)\n",
    "    \n",
    "    print('spacing used to calculate the derivative >> ', step)\n",
    "    print('numerical derivative of E(h), h->0+ >>', fd)\n",
    "    return fd\n",
    "\n",
    "\n",
    "#function that calculates the backward derivative\n",
    "def b_derivative(a,b,en,npoints):\n",
    "\n",
    "    step = (b-a)/(npoints-1) \n",
    "    for i in range(npoints):\n",
    "        if a + i*step == 0:\n",
    "            print('zero found in position >>', i)\n",
    "            z=i\n",
    "            break\n",
    "    bd = (en[z]-en[z-1])/(step)\n",
    "    \n",
    "    print('spacing used to calculate the derivative >> ', step)\n",
    "    print('numerical derivative of E(h), h->0- >>', bd)\n",
    "    return bd"
   ]
  },
  {
   "cell_type": "markdown",
   "id": "a8670417-b466-4fdc-9884-b379986df579",
   "metadata": {},
   "source": [
    "## NOISELESS SIMULATIONS for N=5 and N=6 qubits"
   ]
  },
  {
   "cell_type": "code",
   "execution_count": 3,
   "id": "aff78604-c595-476c-ae30-aa6713b2f77b",
   "metadata": {},
   "outputs": [],
   "source": [
    "#parameters definition: number of spins, field and interaction term\n",
    "nqubits=5\n",
    "J=1.\n",
    "h=np.linspace(-0.4,0.4,3)\n",
    "energy_5=np.zeros(np.size(h))\n",
    "\n",
    "service = QiskitRuntimeService()\n",
    "backend = \"ibmq_qasm_simulator\"\n",
    "\n",
    "ansatz = EfficientSU2(nqubits, reps=3, entanglement='linear', insert_barriers=True)\n",
    "\n",
    "optimizer = SPSA(maxiter=500)\n",
    "\n",
    "initial_point = np.random.random(ansatz.num_parameters)\n",
    "\n",
    "# Create an object to store intermediate results\n",
    "from dataclasses import dataclass\n",
    "@dataclass\n",
    "class VQELog:\n",
    "    values: list\n",
    "    parameters: list\n",
    "    def update(self, count, parameters, mean, _metadata):\n",
    "        self.values.append(mean)\n",
    "        self.parameters.append(parameters)\n",
    "        print(f\"Running circuit {count} of ~400\", end=\"\\r\", flush=True)\n",
    "\n",
    "log = VQELog([],[])"
   ]
  },
  {
   "cell_type": "code",
   "execution_count": 30,
   "id": "38dd9f34-e7a7-4e18-8824-50524ed70293",
   "metadata": {},
   "outputs": [
    {
     "name": "stdout",
     "output_type": "stream",
     "text": [
      "Experiment complete.          \n",
      "Raw result: -3.7874\n",
      "Experiment complete.          \n",
      "Raw result: -2.9880000000000004\n",
      "Experiment complete.          \n",
      "Raw result: -3.7592\n"
     ]
    }
   ],
   "source": [
    "# Main calculation - RESULTS FOR 500 SPSA ITER\n",
    "with Session(service=service, backend=backend) as session:\n",
    "    options = Options()\n",
    "    options.optimization_level = 3\n",
    "\n",
    "    for i in range(np.size(h)):\n",
    "        log = VQELog([],[])\n",
    "        vqe = VQE(Estimator(session=session, options=options),\n",
    "                  ansatz, optimizer, callback=log.update, initial_point=initial_point)\n",
    "    \n",
    "        H = ham_generator(nqubits,h[i],J)\n",
    "        result = vqe.compute_minimum_eigenvalue(H)\n",
    "        energy_5[i]=result.optimal_value\n",
    "        print(\"Experiment complete.\".ljust(30))\n",
    "        print(f\"Raw result: {result.optimal_value}\")\n",
    "        #print(log.values)\n",
    "        \n",
    "\n",
    "    if 'simulator' not in backend:\n",
    "        # Run once with ZNE error mitigation\n",
    "        options.resilience_level = 2\n",
    "        vqe = VQE(Estimator(session=session, options=options),\n",
    "                  ansatz, SPSA(1), initial_point=result.optimal_point)\n",
    "        result = vqe.compute_minimum_eigenvalue(H)\n",
    "        print(f\"Mitigated result: {result.optimal_value}\")"
   ]
  },
  {
   "cell_type": "code",
   "execution_count": 39,
   "id": "138bc8af-74c7-47b5-b191-ed1643e029dd",
   "metadata": {},
   "outputs": [
    {
     "name": "stdout",
     "output_type": "stream",
     "text": [
      "zero found in position >> 1\n",
      "spacing used to calculate the derivative >>  0.4\n",
      "numerical derivative of E(h), h->0+ >> -1.9479999999999897\n",
      "zero found in position >> 1\n",
      "spacing used to calculate the derivative >>  0.4\n",
      "numerical derivative of E(h), h->0- >> 2.0184999999999897\n",
      "-3.9664999999999795\n"
     ]
    },
    {
     "data": {
      "image/png": "[encoded data removed]",
      "text/plain": [
       "<Figure size 432x288 with 1 Axes>"
      ]
     },
     "metadata": {
      "needs_background": "light"
     },
     "output_type": "display_data"
    }
   ],
   "source": [
    "print(f_derivative(-0.4,0.4,energy_5,3)-b_derivative(-0.4,0.4,energy_5,3))\n",
    "h =[-0.4,0,0.4]\n",
    "energy_5=[-3.7874,-2.980000000000004,-3.7592]\n",
    "plt.grid()\n",
    "plt.xlabel('h')\n",
    "plt.ylabel('GS energy')\n",
    "plt.plot(h,energy_5,marker='o',label='N=5')\n",
    "plt.legend()\n",
    "plt.show()"
   ]
  },
  {
   "cell_type": "code",
   "execution_count": 15,
   "id": "c118cdab-b4e7-4712-b2bc-49b8d836b374",
   "metadata": {},
   "outputs": [
    {
     "name": "stdout",
     "output_type": "stream",
     "text": [
      "[-0.4  0.   0.4]\n"
     ]
    }
   ],
   "source": [
    "nqubits=6\n",
    "J=1.\n",
    "h = np.linspace(-0.4,0.4,3)\n",
    "energy_6=np.zeros(np.size(h))\n",
    "print(h)"
   ]
  },
  {
   "cell_type": "code",
   "execution_count": 16,
   "id": "482165df-d946-4ab1-a630-63fae59683da",
   "metadata": {},
   "outputs": [],
   "source": [
    "service = QiskitRuntimeService()\n",
    "backend = \"ibmq_qasm_simulator\"\n",
    "ansatz = EfficientSU2(nqubits, reps=3, entanglement='linear', insert_barriers=False)\n",
    "initial_point = np.random.random(ansatz.num_parameters)\n",
    "optimizer = SPSA(maxiter=500)\n",
    "log = VQELog([],[])"
   ]
  },
  {
   "cell_type": "code",
   "execution_count": 17,
   "id": "9a2aa359-a68a-4e73-8734-9ec1de110aef",
   "metadata": {},
   "outputs": [
    {
     "name": "stdout",
     "output_type": "stream",
     "text": [
      "Experiment complete.          \n",
      "Raw result: -6.216399999999999\n",
      "Experiment complete.          \n",
      "Raw result: -5.9935\n",
      "Experiment complete.          \n",
      "Raw result: -6.0508\n"
     ]
    }
   ],
   "source": [
    "# Main calculation\n",
    "with Session(service=service, backend=backend) as session:\n",
    "    options = Options()\n",
    "    options.optimization_level = 3\n",
    "\n",
    "    for i in range(np.size(h)):\n",
    "        log = VQELog([],[])\n",
    "        vqe = VQE(Estimator(session=session, options=options),\n",
    "                  ansatz, optimizer, callback=log.update, initial_point=initial_point)\n",
    "    \n",
    "        H = ham_generator(nqubits,h[i],J)\n",
    "        result = vqe.compute_minimum_eigenvalue(H)\n",
    "        energy_6[i]=result.optimal_value\n",
    "        print(\"Experiment complete.\".ljust(30))\n",
    "        print(f\"Raw result: {result.optimal_value}\")\n",
    "        #print(log.values)\n",
    "        \n",
    "\n",
    "    if 'simulator' not in backend:\n",
    "        # Run once with ZNE error mitigation\n",
    "        options.resilience_level = 2\n",
    "        vqe = VQE(Estimator(session=session, options=options),\n",
    "                  ansatz, SPSA(1), initial_point=result.optimal_point)\n",
    "        result = vqe.compute_minimum_eigenvalue(H)\n",
    "        print(f\"Mitigated result: {result.optimal_value}\")"
   ]
  },
  {
   "cell_type": "code",
   "execution_count": 42,
   "id": "f39f75a5-3017-47e8-989e-28d4f91a34ef",
   "metadata": {},
   "outputs": [
    {
     "name": "stdout",
     "output_type": "stream",
     "text": [
      "zero found in position >> 1\n",
      "spacing used to calculate the derivative >>  0.4\n",
      "numerical derivative of E(h), h->0+ >> -0.1432499999999992\n",
      "zero found in position >> 1\n",
      "spacing used to calculate the derivative >>  0.4\n",
      "numerical derivative of E(h), h->0- >> 0.557249999999998\n",
      "-0.7004999999999972\n"
     ]
    },
    {
     "data": {
      "image/png": "[encoded data removed]",
      "text/plain": [
       "<Figure size 432x288 with 1 Axes>"
      ]
     },
     "metadata": {
      "needs_background": "light"
     },
     "output_type": "display_data"
    }
   ],
   "source": [
    "print(f_derivative(-0.4,0.4,energy_6,3)-b_derivative(-0.4,0.4,energy_6,3))\n",
    "energy_6 = [-6.216399999999999,-5.9935,-6.0508]\n",
    "h =[-0.4,0,0.4]\n",
    "plt.grid()\n",
    "plt.xlabel('h')\n",
    "plt.ylabel('GS energy')\n",
    "plt.plot(h,energy_6,marker='o',label='N=6')\n",
    "plt.legend()\n",
    "plt.show()"
   ]
  },
  {
   "cell_type": "code",
   "execution_count": 23,
   "id": "5128f1a4-fdb9-4bfe-b16d-326b497c5390",
   "metadata": {},
   "outputs": [],
   "source": [
    "# noiseless energies\n",
    "energy_6 = [-6.216399999999999,-5.9935,-6.0508]\n",
    "energy_5=[-3.7874,-2.980000000000004,-3.7592]"
   ]
  },
  {
   "cell_type": "code",
   "execution_count": 24,
   "id": "f88036df-b9ae-4c73-9426-73266b3f879b",
   "metadata": {},
   "outputs": [
    {
     "data": {
      "image/png": "[encoded data removed]",
      "text/plain": [
       "<Figure size 432x288 with 1 Axes>"
      ]
     },
     "metadata": {
      "needs_background": "light"
     },
     "output_type": "display_data"
    }
   ],
   "source": [
    "h =[-0.4,0,0.4]\n",
    "plt.grid()\n",
    "#plt.ylim(-7,2)\n",
    "plt.title('Noiseless simulation')\n",
    "plt.xlabel('h')\n",
    "plt.ylabel('GS energy')\n",
    "plt.plot(h,energy_5,marker='o',label='N=5')\n",
    "plt.plot(h,energy_6,marker='o',label='N=6')\n",
    "plt.legend()\n",
    "plt.show()"
   ]
  },
  {
   "cell_type": "markdown",
   "id": "3c0fa4a0-f8b1-4984-93de-ca7ebab816a4",
   "metadata": {},
   "source": [
    "## NOISY SIMULATIONS WITH FAKE PROVIDER"
   ]
  },
  {
   "cell_type": "code",
   "execution_count": 5,
   "id": "849e4bc9-6db8-46d3-93b5-cb6ccdd71a6f",
   "metadata": {},
   "outputs": [],
   "source": [
    "# importing libraries\n",
    "from qiskit.providers.fake_provider import FakeGeneva, FakeVigo, FakeNairobi\n",
    "from qiskit_aer.noise import NoiseModel"
   ]
  },
  {
   "cell_type": "code",
   "execution_count": 5,
   "id": "af7d5028-9180-418b-ab5e-4e1bff2e5fee",
   "metadata": {},
   "outputs": [],
   "source": [
    "#parameters definition: number of spins, field and interaction term\n",
    "nqubits=5\n",
    "J=1.\n",
    "h=np.linspace(-0.4,0.4,3)\n",
    "energy_5=np.zeros(np.size(h))"
   ]
  },
  {
   "cell_type": "code",
   "execution_count": 14,
   "id": "70335251-7cec-41ab-95f4-2a9ed8030475",
   "metadata": {},
   "outputs": [],
   "source": [
    "service = QiskitRuntimeService()\n",
    "ansatz = EfficientSU2(nqubits, reps=3, entanglement='linear', insert_barriers=True)\n",
    "optimizer = SPSA(maxiter=500)\n",
    "initial_point = np.random.random(ansatz.num_parameters)"
   ]
  },
  {
   "cell_type": "code",
   "execution_count": 15,
   "id": "48a648c5-97e3-4f51-ae21-e54be917a984",
   "metadata": {},
   "outputs": [
    {
     "name": "stderr",
     "output_type": "stream",
     "text": [
      "/opt/conda/lib/python3.8/site-packages/qiskit_aer/noise/device/models.py:145: UserWarning: When `target` is supplied, `standard_gates` and `warnings` are ignored, and they are always set to true.\n",
      "  warn(\"When `target` is supplied, `standard_gates` and `warnings` are ignored,\"\n",
      "/opt/conda/lib/python3.8/site-packages/qiskit_aer/noise/device/models.py:365: UserWarning: Device model returned an invalid T_2 relaxation time greater than the theoretical maximum value 2 * T_1 (0.00015668723661479977 > 2 * 6.940155061593941e-05). Truncating to maximum value.\n",
      "  warn(\"Device model returned an invalid T_2 relaxation time greater than\"\n",
      "/opt/conda/lib/python3.8/site-packages/qiskit_aer/noise/device/models.py:365: UserWarning: Device model returned an invalid T_2 relaxation time greater than the theoretical maximum value 2 * T_1 (0.00015668723661479977 > 2 * 6.940155061593941e-05). Truncating to maximum value.\n",
      "  warn(\"Device model returned an invalid T_2 relaxation time greater than\"\n"
     ]
    }
   ],
   "source": [
    "backend = service.get_backend('ibm_nairobi')\n",
    "backend_noise_model = NoiseModel.from_backend(backend)\n",
    "simulator = service.get_backend('ibmq_qasm_simulator')\n",
    "\n",
    "options = Options()\n",
    "options.optimization_level = 3\n",
    "options.simulator = {\n",
    "\"noise_model\": backend_noise_model\n",
    "}"
   ]
  },
  {
   "cell_type": "code",
   "execution_count": 9,
   "id": "43f70cff-24fe-4ec0-8723-a562b4eb4eec",
   "metadata": {},
   "outputs": [
    {
     "name": "stdout",
     "output_type": "stream",
     "text": [
      "Experiment complete.          \n",
      "Raw result: -3.6701492846740025\n",
      "Experiment complete.          \n",
      "Raw result: -2.8721001305384037\n",
      "Experiment complete.          \n",
      "Raw result: -3.5730851889644457\n"
     ]
    }
   ],
   "source": [
    "# Main calculation - RESULTS FOR 500 SPSA ITER\n",
    "with Session(service=service, backend=simulator) as session:\n",
    "\n",
    "    for i in range(np.size(h)):\n",
    "        log = VQELog([],[])\n",
    "        \n",
    "        vqe = VQE(Estimator(session=session, options=options),\n",
    "                  ansatz, optimizer, callback=log.update, initial_point=initial_point)\n",
    "    \n",
    "        H = ham_generator(nqubits,h[i],J)\n",
    "        result = vqe.compute_minimum_eigenvalue(H)\n",
    "        energy_5[i]=result.optimal_value\n",
    "        print(\"Experiment complete.\".ljust(30))\n",
    "        print(f\"Raw result: {result.optimal_value}\")\n",
    "        #print(log.values)\n",
    "        \n",
    "\n",
    "        #if 'simulator' not in backend:\n",
    "        # Run once with ZNE error mitigation\n",
    "        #    options.resilience_level = 2\n",
    "        #    vqe = VQE(Estimator(session=session, options=options),\n",
    "        #          ansatz, SPSA(1), initial_point=result.optimal_point)\n",
    "        #    result = vqe.compute_minimum_eigenvalue(H)\n",
    "        #    print(f\"Mitigated result: {result.optimal_value}\")"
   ]
  },
  {
   "cell_type": "code",
   "execution_count": 19,
   "id": "d9f65771-af93-4222-a0ab-b4ba77442361",
   "metadata": {},
   "outputs": [
    {
     "name": "stdout",
     "output_type": "stream",
     "text": [
      "zero found in position >> 1\n",
      "spacing used to calculate the derivative >>  0.4\n",
      "numerical derivative of E(h), h->0+ >> -1.752462646065105\n",
      "zero found in position >> 1\n",
      "spacing used to calculate the derivative >>  0.4\n",
      "numerical derivative of E(h), h->0- >> 1.9951228853389968\n",
      "-3.747585531404102\n"
     ]
    },
    {
     "data": {
      "image/png": "[encoded data removed]",
      "text/plain": [
       "<Figure size 432x288 with 1 Axes>"
      ]
     },
     "metadata": {
      "needs_background": "light"
     },
     "output_type": "display_data"
    }
   ],
   "source": [
    "energy_5=[-3.6701492846740025,-2.8721001305384037,-3.5730851889644457]\n",
    "print(f_derivative(-0.4,0.4,energy_5,3)-b_derivative(-0.4,0.4,energy_5,3))\n",
    "h =[-0.4,0,0.4]\n",
    "plt.grid()\n",
    "plt.xlabel('h')\n",
    "plt.ylabel('GS energy')\n",
    "plt.plot(h,energy_5,marker='o',label='N=5')\n",
    "plt.legend()\n",
    "plt.show()"
   ]
  },
  {
   "cell_type": "code",
   "execution_count": 16,
   "id": "e2d6aa76-242f-40c2-aa45-7feb105dc6e3",
   "metadata": {},
   "outputs": [],
   "source": [
    "nqubits=6\n",
    "J=1.\n",
    "h=np.linspace(-0.4,0.4,3)\n",
    "energy_6=np.zeros(np.size(h))\n",
    "ansatz = EfficientSU2(nqubits, reps=3, entanglement='linear', insert_barriers=True)\n",
    "optimizer = SPSA(maxiter=500)\n",
    "initial_point = np.random.random(ansatz.num_parameters)"
   ]
  },
  {
   "cell_type": "code",
   "execution_count": 18,
   "id": "14f77b9b-0cb2-46da-8d61-a97ea4add414",
   "metadata": {},
   "outputs": [
    {
     "name": "stdout",
     "output_type": "stream",
     "text": [
      "Experiment complete.          \n",
      "Raw result: -5.650883729926863\n",
      "Experiment complete.          \n",
      "Raw result: -5.459984851301243\n",
      "Experiment complete.          \n",
      "Raw result: -5.521632275403579\n"
     ]
    }
   ],
   "source": [
    "# Main calculation - RESULTS FOR 500 SPSA ITER\n",
    "with Session(service=service, backend=simulator) as session:\n",
    "\n",
    "    for i in range(np.size(h)):\n",
    "        log = VQELog([],[])\n",
    "        \n",
    "        vqe = VQE(Estimator(session=session, options=options),\n",
    "                  ansatz, optimizer, callback=log.update, initial_point=initial_point)\n",
    "    \n",
    "        H = ham_generator(nqubits,h[i],J)\n",
    "        result = vqe.compute_minimum_eigenvalue(H)\n",
    "        energy_6[i]=result.optimal_value\n",
    "        print(\"Experiment complete.\".ljust(30))\n",
    "        print(f\"Raw result: {result.optimal_value}\")\n",
    "        #print(log.values)\n",
    "        \n",
    "\n",
    "        #if 'simulator' not in backend:\n",
    "        # Run once with ZNE error mitigation\n",
    "        #    options.resilience_level = 2\n",
    "        #    vqe = VQE(Estimator(session=session, options=options),\n",
    "        #          ansatz, SPSA(1), initial_point=result.optimal_point)\n",
    "        #    result = vqe.compute_minimum_eigenvalue(H)\n",
    "        #    print(f\"Mitigated result: {result.optimal_value}\")"
   ]
  },
  {
   "cell_type": "code",
   "execution_count": 20,
   "id": "7cc1452f-1009-436c-a441-adf1839dcd5a",
   "metadata": {},
   "outputs": [
    {
     "name": "stdout",
     "output_type": "stream",
     "text": [
      "zero found in position >> 1\n",
      "spacing used to calculate the derivative >>  0.4\n",
      "numerical derivative of E(h), h->0+ >> -0.15411856025584036\n",
      "zero found in position >> 1\n",
      "spacing used to calculate the derivative >>  0.4\n",
      "numerical derivative of E(h), h->0- >> 0.4772471965640501\n",
      "-0.6313657568198905\n"
     ]
    },
    {
     "data": {
      "image/png": "[encoded data removed]",
      "text/plain": [
       "<Figure size 432x288 with 1 Axes>"
      ]
     },
     "metadata": {
      "needs_background": "light"
     },
     "output_type": "display_data"
    }
   ],
   "source": [
    "print(f_derivative(-0.4,0.4,energy_6,3)-b_derivative(-0.4,0.4,energy_6,3))\n",
    "h =[-0.4,0,0.4]\n",
    "plt.grid()\n",
    "plt.xlabel('h')\n",
    "plt.ylabel('GS energy')\n",
    "plt.plot(h,energy_6,marker='o',label='N=6')\n",
    "plt.legend()\n",
    "plt.show()"
   ]
  },
  {
   "cell_type": "code",
   "execution_count": 22,
   "id": "5c9985be-c805-4461-9d44-89dc85f24c57",
   "metadata": {},
   "outputs": [
    {
     "data": {
      "image/png": "[encoded data removed]",
      "text/plain": [
       "<Figure size 432x288 with 1 Axes>"
      ]
     },
     "metadata": {
      "needs_background": "light"
     },
     "output_type": "display_data"
    }
   ],
   "source": [
    "h =[-0.4,0,0.4]\n",
    "plt.grid()\n",
    "#plt.ylim(-7,2)\n",
    "plt.title('Noisy simulation')\n",
    "plt.xlabel('h')\n",
    "plt.ylabel('GS energy')\n",
    "plt.plot(h,energy_5,marker='o',label='N=5')\n",
    "plt.plot(h,energy_6,marker='o',label='N=6')\n",
    "plt.legend()\n",
    "plt.show()"
   ]
  },
  {
   "cell_type": "code",
   "execution_count": 37,
   "id": "28dd4224-9bf2-4911-b8c5-afc93bc5ca4c",
   "metadata": {},
   "outputs": [
    {
     "data": {
      "image/png": "[encoded data removed]",
      "text/plain": [
       "<Figure size 432x288 with 1 Axes>"
      ]
     },
     "metadata": {
      "needs_background": "light"
     },
     "output_type": "display_data"
    }
   ],
   "source": [
    "# noiseless energies\n",
    "energy_6nl = [-6.216399999999999,-5.9935,-6.0508]\n",
    "energy_5nl=[-3.7874,-2.980000000000004,-3.7592]\n",
    "\n",
    "#noisy energies\n",
    "energy_6n =[-5.650883729926863,-5.459984851301243,-5.521632275403579]\n",
    "energy_5n = [-3.6701492846740025,-2.8721001305384037,-3.5730851889644457]\n",
    "\n",
    "plt.xlabel('h')\n",
    "plt.ylabel('GS energy')\n",
    "plt.grid()\n",
    "plt.plot(h,energy_5n,color='dodgerblue',marker='x',label='N=5 noisy')\n",
    "plt.plot(h,energy_5nl,color='darkorange',marker='o',label='N=5 noiseless')\n",
    "plt.plot(h,energy_6n,color='dodgerblue',marker='x',label='N=6 noisy')\n",
    "plt.plot(h,energy_6nl,color='darkorange',marker='o',label='N=6 noiseless')\n",
    "\n",
    "\n",
    "plt.legend()\n",
    "plt.show()"
   ]
  },
  {
   "cell_type": "code",
   "execution_count": 47,
   "id": "162f66ef-3f51-4dd7-88ad-20f8c8d356e9",
   "metadata": {},
   "outputs": [
    {
     "data": {
      "image/png": "[encoded data removed]",
      "text/plain": [
       "<Figure size 432x288 with 1 Axes>"
      ]
     },
     "metadata": {
      "needs_background": "light"
     },
     "output_type": "display_data"
    }
   ],
   "source": [
    "# noiseless derivative differences\n",
    "d_nl = [-3.9664999999999795,-0.7004999999999972]\n",
    "\n",
    "#noisy derivative differences\n",
    "d_n =[-3.747585531404102,-0.6313657568198905]\n",
    "\n",
    "index = [5,6]\n",
    "plt.xticks(index)\n",
    "plt.xlim(4,7)\n",
    "plt.xlabel('nqubits')\n",
    "plt.title('Derivative differences comparison')\n",
    "plt.axhline(y=0,color='red',linewidth=2,label='Expected')\n",
    "plt.axhline(y=-4,color='red',linewidth=2)\n",
    "plt.scatter(index,d_nl,label='Noiseless')\n",
    "plt.scatter(index,d_n,label='Noisy')\n",
    "plt.legend()\n",
    "plt.grid()"
   ]
  },
  {
   "cell_type": "markdown",
   "id": "61857179-bae4-4825-ab48-a05855e8472f",
   "metadata": {},
   "source": [
    "## VQD"
   ]
  },
  {
   "cell_type": "code",
   "execution_count": 7,
   "id": "591ecba6-5f48-4c76-a95b-803d76211326",
   "metadata": {},
   "outputs": [],
   "source": [
    "nqubits=5\n",
    "J=1.\n",
    "h=0.2\n",
    "vqd_values=[]\n",
    "from qiskit.algorithms.eigensolvers import VQD\n",
    "from qiskit.primitives import Sampler\n",
    "from qiskit.algorithms.state_fidelities import ComputeUncompute,BaseStateFidelity\n",
    "from qiskit.algorithms.optimizers import SLSQP, SPSA\n",
    "from qiskit.algorithms.eigensolvers import NumPyEigensolver\n",
    "from qiskit.quantum_info import SparsePauliOp\n",
    "from qiskit.opflow import PauliSumOp"
   ]
  },
  {
   "cell_type": "code",
   "execution_count": 8,
   "id": "79880779-18f9-43c2-925d-8f636eda81c9",
   "metadata": {},
   "outputs": [],
   "source": [
    "\n",
    "def ham5_generator(h,J):\n",
    "    H = SparsePauliOp.from_list(\n",
    "        [\n",
    "            (\"ZIIII\", h),\n",
    "            (\"IZIII\", h),\n",
    "            (\"IIZII\", h),\n",
    "            (\"IIIZI\", h),\n",
    "            (\"IIIIZ\", h),\n",
    "            (\"XXIII\", J),\n",
    "            (\"IXXII\", J),\n",
    "            (\"IIXXI\", J),\n",
    "            (\"IIIXX\", J),\n",
    "            (\"XIIIX\", J),\n",
    "        ]\n",
    "    )\n",
    "    return H"
   ]
  },
  {
   "cell_type": "code",
   "execution_count": 14,
   "id": "a69bb70e-7235-4240-aac3-2acac8124e79",
   "metadata": {},
   "outputs": [],
   "source": [
    "service = QiskitRuntimeService()\n",
    "\n",
    "backend = \"ibmq_qasm_simulator\"\n",
    "ansatz = EfficientSU2(nqubits, reps=3, entanglement='linear', insert_barriers=False)\n",
    "initial_point = np.random.random(ansatz.num_parameters)\n",
    "#optimizer = SLSQP(maxiter=50,disp=True,max_evals_grouped=1)\n",
    "#optimizer = SPSA(maxiter=1)\n",
    "optimizer = SLSQP(maxiter=50,disp=True)"
   ]
  },
  {
   "cell_type": "code",
   "execution_count": 15,
   "id": "70da19bc-b272-473b-a4b1-b92925d8f948",
   "metadata": {},
   "outputs": [
    {
     "name": "stdout",
     "output_type": "stream",
     "text": [
      "Optimization terminated successfully    (Exit mode 0)\n",
      "            Current function value: -0.08565833333333336\n",
      "            Iterations: 8\n",
      "            Function evaluations: 194\n",
      "            Gradient evaluations: 4\n"
     ]
    },
    {
     "name": "stderr",
     "output_type": "stream",
     "text": [
      "/opt/conda/lib/python3.8/site-packages/scipy/optimize/_optimize.py:284: RuntimeWarning: Values in x were outside bounds during a minimize step, clipping to bounds\n",
      "  warnings.warn(\"Values in x were outside bounds during a \"\n"
     ]
    },
    {
     "name": "stdout",
     "output_type": "stream",
     "text": [
      "Optimization terminated successfully    (Exit mode 0)\n",
      "            Current function value: 32.86628948403513\n",
      "            Iterations: 9\n",
      "            Function evaluations: 245\n",
      "            Gradient evaluations: 5\n",
      "[-0.08565833 32.86628948]\n"
     ]
    }
   ],
   "source": [
    "betas=[33,33]\n",
    "\n",
    "with Session(service=service, backend=backend) as session:\n",
    "    options = Options()\n",
    "    options.optimization_level = 2\n",
    "    sampler = Sampler()\n",
    "    options.resilience_level = 2\n",
    "    H = ham_generator(5,0.2,1.)\n",
    "    \n",
    "    vqd = VQD(estimator = Estimator(session=session,options = options),fidelity =ComputeUncompute(sampler) ,\n",
    "            ansatz=ansatz, optimizer=optimizer, k=2,betas=betas,initial_point=initial_point)\n",
    "    \n",
    "    result = vqd.compute_eigenvalues(operator = H)\n",
    "    \n",
    "    vqd_values.append(result.optimal_values)\n",
    "    print(result.optimal_values)\n"
   ]
  },
  {
   "cell_type": "code",
   "execution_count": null,
   "id": "4b91edd6-cb08-41e3-9ffd-f90854b83548",
   "metadata": {},
   "outputs": [],
   "source": []
  },
  {
   "cell_type": "code",
   "execution_count": null,
   "id": "f1e8bfd2-8f39-432e-b314-ca18948566c4",
   "metadata": {},
   "outputs": [],
   "source": []
  }
 ],
 "metadata": {
  "kernelspec": {
   "display_name": "Python 3 (ipykernel)",
   "language": "python",
   "name": "python3"
  },
  "language_info": {
   "codemirror_mode": {
    "name": "ipython",
    "version": 3
   },
   "file_extension": ".py",
   "mimetype": "text/x-python",
   "name": "python",
   "nbconvert_exporter": "python",
   "pygments_lexer": "ipython3",
   "version": "3.8.15"
  },
  "widgets": {
   "application/vnd.jupyter.widget-state+json": {
    "state": {
     "07ae09fda7f0499b8c3ddd6a59d27deb": {
      "model_module": "@jupyter-widgets/controls",
      "model_module_version": "1.5.0",
      "model_name": "DescriptionStyleModel",
      "state": {
       "description_width": ""
      }
     },
     "2cd5def713d243f8b5fc1096c5e716ad": {
      "model_module": "@jupyter-widgets/controls",
      "model_module_version": "1.5.0",
      "model_name": "DescriptionStyleModel",
      "state": {
       "description_width": ""
      }
     },
     "2f8cf11ad017418daeb2cab71a9d4d11": {
      "model_module": "@jupyter-widgets/controls",
      "model_module_version": "1.5.0",
      "model_name": "DescriptionStyleModel",
      "state": {
       "description_width": ""
      }
     },
     "4edfda8130904605a46f55d42d05e86a": {
      "model_module": "@jupyter-widgets/controls",
      "model_module_version": "1.5.0",
      "model_name": "HTMLModel",
      "state": {
       "layout": "IPY_MODEL_5a96549eae174f008d0b9886d85a5168",
       "style": "IPY_MODEL_feacf448b3d14d138fe3fcdd3747e495",
       "value": "<h5>Job ID</h5>"
      }
     },
     "54c3568257e947ada81ccbca9be4785f": {
      "model_module": "@jupyter-widgets/controls",
      "model_module_version": "1.5.0",
      "model_name": "DescriptionStyleModel",
      "state": {
       "description_width": ""
      }
     },
     "5a96549eae174f008d0b9886d85a5168": {
      "model_module": "@jupyter-widgets/base",
      "model_module_version": "1.2.0",
      "model_name": "LayoutModel",
      "state": {
       "width": "190px"
      }
     },
     "607c048b2861474e8e7a5fe7616cdfdc": {
      "model_module": "@jupyter-widgets/base",
      "model_module_version": "1.2.0",
      "model_name": "LayoutModel",
      "state": {}
     },
     "60cd4a3972524e999187b7584c68a8d6": {
      "model_module": "@jupyter-widgets/controls",
      "model_module_version": "1.5.0",
      "model_name": "HTMLModel",
      "state": {
       "layout": "IPY_MODEL_607c048b2861474e8e7a5fe7616cdfdc",
       "style": "IPY_MODEL_2f8cf11ad017418daeb2cab71a9d4d11",
       "value": "<h5>Message</h5>"
      }
     },
     "61d190083b594c55937c9892a631d130": {
      "model_module": "@jupyter-widgets/base",
      "model_module_version": "1.2.0",
      "model_name": "LayoutModel",
      "state": {
       "margin": "0px 0px 10px 0px"
      }
     },
     "66e30b2c6c0d4b44865037d4b35d8a1c": {
      "model_module": "@jupyter-widgets/controls",
      "model_module_version": "1.5.0",
      "model_name": "ButtonModel",
      "state": {
       "button_style": "primary",
       "description": "Clear",
       "layout": "IPY_MODEL_fbc6f2de5bb54569aec7892d33db6ee5",
       "style": "IPY_MODEL_c45cb319f3db4e459ad64c443e595d6f"
      }
     },
     "6f01aacda7204db29e5001a1b455ca99": {
      "model_module": "@jupyter-widgets/base",
      "model_module_version": "1.2.0",
      "model_name": "LayoutModel",
      "state": {
       "width": "95px"
      }
     },
     "a12a11ac28cc4d9a8ed198d4cdc7ea61": {
      "model_module": "@jupyter-widgets/controls",
      "model_module_version": "1.5.0",
      "model_name": "HTMLModel",
      "state": {
       "layout": "IPY_MODEL_c4e18c5055ae452fb84264b665953657",
       "style": "IPY_MODEL_2cd5def713d243f8b5fc1096c5e716ad",
       "value": "<h5>Queue</h5>"
      }
     },
     "a1f74c5fa54d42819af9c0a517573eef": {
      "model_module": "@jupyter-widgets/base",
      "model_module_version": "1.2.0",
      "model_name": "LayoutModel",
      "state": {
       "width": "145px"
      }
     },
     "a4b200c679334716a843b81703923e86": {
      "model_module": "@jupyter-widgets/controls",
      "model_module_version": "1.5.0",
      "model_name": "HTMLModel",
      "state": {
       "layout": "IPY_MODEL_61d190083b594c55937c9892a631d130",
       "style": "IPY_MODEL_54c3568257e947ada81ccbca9be4785f",
       "value": "<p style='font-family: IBM Plex Sans, Arial, Helvetica, sans-serif; font-size: 20px; font-weight: medium;'>Circuit Properties</p>"
      }
     },
     "bb44c51376964f789d2a9fcdb17cc336": {
      "model_module": "@jupyter-widgets/controls",
      "model_module_version": "1.5.0",
      "model_name": "HTMLModel",
      "state": {
       "layout": "IPY_MODEL_a1f74c5fa54d42819af9c0a517573eef",
       "style": "IPY_MODEL_07ae09fda7f0499b8c3ddd6a59d27deb",
       "value": "<h5>Backend</h5>"
      }
     },
     "c031160da75144fcb8ac1c906f6e6140": {
      "model_module": "@jupyter-widgets/controls",
      "model_module_version": "1.5.0",
      "model_name": "HTMLModel",
      "state": {
       "layout": "IPY_MODEL_6f01aacda7204db29e5001a1b455ca99",
       "style": "IPY_MODEL_c9c386b007d14ea98d16dd09547789a4",
       "value": "<h5>Status</h5>"
      }
     },
     "c45cb319f3db4e459ad64c443e595d6f": {
      "model_module": "@jupyter-widgets/controls",
      "model_module_version": "1.5.0",
      "model_name": "ButtonStyleModel",
      "state": {}
     },
     "c4e18c5055ae452fb84264b665953657": {
      "model_module": "@jupyter-widgets/base",
      "model_module_version": "1.2.0",
      "model_name": "LayoutModel",
      "state": {
       "width": "70px"
      }
     },
     "c9c386b007d14ea98d16dd09547789a4": {
      "model_module": "@jupyter-widgets/controls",
      "model_module_version": "1.5.0",
      "model_name": "DescriptionStyleModel",
      "state": {
       "description_width": ""
      }
     },
     "db43b87f4f8748c6a11dbdd7ca30dbbc": {
      "model_module": "@jupyter-widgets/base",
      "model_module_version": "1.2.0",
      "model_name": "LayoutModel",
      "state": {
       "margin": "0px 0px 0px 37px",
       "width": "600px"
      }
     },
     "f0d22bbee4604647a2d0065f03e0aade": {
      "model_module": "@jupyter-widgets/base",
      "model_module_version": "1.2.0",
      "model_name": "LayoutModel",
      "state": {
       "grid_template_areas": "\n                                       \". . . . right \"\n                                        ",
       "grid_template_columns": "20% 20% 20% 20% 20%",
       "width": "100%"
      }
     },
     "f5eaec1d03f84db48ad0a156bf78826b": {
      "model_module": "@jupyter-widgets/controls",
      "model_module_version": "1.5.0",
      "model_name": "HBoxModel",
      "state": {
       "children": [
        "IPY_MODEL_4edfda8130904605a46f55d42d05e86a",
        "IPY_MODEL_bb44c51376964f789d2a9fcdb17cc336",
        "IPY_MODEL_c031160da75144fcb8ac1c906f6e6140",
        "IPY_MODEL_a12a11ac28cc4d9a8ed198d4cdc7ea61",
        "IPY_MODEL_60cd4a3972524e999187b7584c68a8d6"
       ],
       "layout": "IPY_MODEL_db43b87f4f8748c6a11dbdd7ca30dbbc"
      }
     },
     "fbc6f2de5bb54569aec7892d33db6ee5": {
      "model_module": "@jupyter-widgets/base",
      "model_module_version": "1.2.0",
      "model_name": "LayoutModel",
      "state": {
       "grid_area": "right",
       "padding": "0px 0px 0px 0px",
       "width": "70px"
      }
     },
     "fc522313ce3c4e9e963a6a2813e2fea2": {
      "model_module": "@jupyter-widgets/controls",
      "model_module_version": "1.5.0",
      "model_name": "GridBoxModel",
      "state": {
       "children": [
        "IPY_MODEL_66e30b2c6c0d4b44865037d4b35d8a1c"
       ],
       "layout": "IPY_MODEL_f0d22bbee4604647a2d0065f03e0aade"
      }
     },
     "feacf448b3d14d138fe3fcdd3747e495": {
      "model_module": "@jupyter-widgets/controls",
      "model_module_version": "1.5.0",
      "model_name": "DescriptionStyleModel",
      "state": {
       "description_width": ""
      }
     }
    },
    "version_major": 2,
    "version_minor": 0
   }
  }
 },
 "nbformat": 4,
 "nbformat_minor": 5
}
