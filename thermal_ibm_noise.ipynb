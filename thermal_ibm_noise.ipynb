{
 "cells": [
  {
   "cell_type": "markdown",
   "id": "b04853d7-30b4-4a60-88bc-be4a0ae73727",
   "metadata": {},
   "source": [
    "# PARITY-DEPENDENT QUANTUM PHASE TRANSITION IN THE QUANTUM ISING CHAIN\n",
    "## Numerical Simulation \n",
    "### Advanced Quantum Mechanics - Group: Antonio Francesco Mello, Asian Selvakumaran, Federico Raffaele De Filippi, Francesco Proietto"
   ]
  },
  {
   "cell_type": "code",
   "execution_count": null,
   "id": "f43c1436-524f-4cd9-bf82-78bbfe904b1d",
   "metadata": {},
   "outputs": [
    {
     "name": "stderr",
     "output_type": "stream",
     "text": [
      "<frozen importlib._bootstrap>:219: RuntimeWarning: scipy._lib.messagestream.MessageStream size changed, may indicate binary incompatibility. Expected 56 from C header, got 64 from PyObject\n"
     ]
    }
   ],
   "source": [
    "# importing libraries \n",
    "import numpy as np\n",
    "from uncertainties import ufloat\n",
    "from numpy import exp\n",
    "\n",
    "# standard Qiskit libraries\n",
    "from qiskit import QuantumCircuit, transpile, Aer, IBMQ\n",
    "from qiskit.tools.jupyter import *\n",
    "from qiskit.visualization import *\n",
    "from ibm_quantum_widgets import *\n",
    "from qiskit.providers.aer import QasmSimulator\n",
    "from qiskit.opflow.primitive_ops import PauliSumOp\n",
    "from qiskit.providers.aer import AerSimulator\n",
    "from qiskit.opflow import Z,I,X\n",
    "from qiskit.circuit.library import EfficientSU2\n",
    "from qiskit.algorithms.optimizers import SPSA,  COBYLA\n",
    "from qiskit.providers.basicaer import QasmSimulatorPy  # local simulator \n",
    "from qiskit.algorithms import VQE, NumPyMinimumEigensolver\n",
    "import matplotlib.pyplot as plt\n",
    "\n",
    "# Import the noise model object\n",
    "from qiskit.providers.aer.noise import NoiseModel\n",
    "# Import all standard errors\n",
    "from qiskit.providers.aer.noise.errors import *  \n",
    "# Import noise base classes\n",
    "from qiskit.providers.aer.noise.errors.quantum_error import QuantumError"
   ]
  },
  {
   "cell_type": "markdown",
   "id": "5cb46f01-e3f6-45c4-af3a-bc8590f6e802",
   "metadata": {},
   "source": [
    "## FUNCTIONS DEFINITION"
   ]
  },
  {
   "cell_type": "code",
   "execution_count": null,
   "id": "21d06326-55a7-441a-bb26-0878b147debf",
   "metadata": {},
   "outputs": [],
   "source": [
    "#function generating the hamiltonian for a TFIM with nn interaction Ji and field hf - PBC\n",
    "def ham_generator(N,h,J):\n",
    "    H=0\n",
    "    \n",
    "    # field term\n",
    "    for i in range (N):\n",
    "        H+= h*((I^(i))^(Z)^(I^(N-i-1))) \n",
    "    # interaction term\n",
    "    for k in range(N-1):\n",
    "        H+= J*((I^(k))^(X^X)^(I^(N-k-2)))\n",
    "    # PBC\n",
    "    H+= J*((X)^(I^(N-2))^(X))           \n",
    "    return H         \n",
    "\n",
    "\n",
    "#function that calculates the central difference derivative\n",
    "# given npoints values of h in the interval [a,b[\n",
    "def cd_derivative(a,b,en,npoints): \n",
    "    \n",
    "    step = (b-a)/npoints \n",
    "    for i in range(npoints):\n",
    "        if a + i*step == 0:\n",
    "            print('zero found in position >>', i)\n",
    "            z=i\n",
    "            break\n",
    "    cd = (en[z+1]-en[z-1])/(2*step)\n",
    "    \n",
    "    print('spacing used to calculate the derivative >> ', step)\n",
    "    print('numerical derivative of E(h) in h = 0 >>', cd)\n",
    "    return \n",
    "\n",
    "#function that calculates the forward derivative\n",
    "def f_derivative(a,b,en,npoints):\n",
    "\n",
    "    step = (b-a)/npoints \n",
    "    for i in range(npoints):\n",
    "        if a + i*step == 0:\n",
    "            print('zero found in position >>', i)\n",
    "            z=i\n",
    "            break\n",
    "    fd = (en[z+1]-en[z])/(step)\n",
    "    \n",
    "    print('spacing used to calculate the derivative >> ', step)\n",
    "    print('numerical derivative of E(h), h->0+ >>', fd)\n",
    "    return fd\n",
    "\n",
    "\n",
    "#function that calculates the backward derivative\n",
    "def b_derivative(a,b,en,npoints):\n",
    "\n",
    "    step = (b-a)/npoints \n",
    "    for i in range(npoints):\n",
    "        if a + i*step == 0:\n",
    "            print('zero found in position >>', i)\n",
    "            z=i\n",
    "            break\n",
    "    bd = (en[z]-en[z-1])/(step)\n",
    "    \n",
    "    print('spacing used to calculate the derivative >> ', step)\n",
    "    print('numerical derivative of E(h), h->0- >>', bd)\n",
    "    return bd\n",
    "\n",
    "#intermediate_info and callback function\n",
    "intermediate_info = {\n",
    "    'nfev': [],\n",
    "    'parameters': [],\n",
    "    'energy': [],\n",
    "    'stddev': []\n",
    "}\n",
    "\n",
    "\n",
    "\n",
    "def callback(nfev, parameters, energy, stddev):\n",
    "    intermediate_info['nfev'].append(nfev)\n",
    "    intermediate_info['parameters'].append(parameters)\n",
    "    intermediate_info['energy'].append(energy)\n",
    "    intermediate_info['stddev'].append(stddev)\n",
    "\n",
    "\n",
    "#function initializing intermediate_info\n",
    "def clear_info():\n",
    "    info_f = {\n",
    "        'nfev': [],\n",
    "        'parameters': [],\n",
    "        'energy': [],\n",
    "        'stddev': []\n",
    "    }\n",
    "    return info_f\n",
    "\n",
    "np.random.seed(7) #seed for reproducibility"
   ]
  },
  {
   "cell_type": "code",
   "execution_count": null,
   "id": "0ed99e51-ec1a-4c89-9fe2-8e31045c356b",
   "metadata": {},
   "outputs": [],
   "source": [
    "#parameters definition\n",
    "nqubits=5\n",
    "h=0.2\n",
    "J=1."
   ]
  },
  {
   "cell_type": "code",
   "execution_count": null,
   "id": "9786f3ea-c530-4515-8756-947aa1c626a7",
   "metadata": {},
   "outputs": [],
   "source": [
    "# THERMAL RELAXATION ERROR\n",
    "\n",
    "# each qubit is parametrized by two times: T1 and T2 which are respectively:\n",
    "# - Relaxation time -> tendency of the state 1 to relax to 0\n",
    "# - Dephasing time -> time required for each qubit to approach the z axis\n",
    "\n",
    "def thermal_rel():\n",
    "    # T1 and T2 values for qubits 0-(nqubits-1)\n",
    "    T1s = np.random.normal(50e3, 10e3, nqubits) # Sampled from normal distribution mean 50 microsec\n",
    "    T2s = np.random.normal(70e3, 10e3, nqubits)  # Sampled from normal distribution mean 50 microsec\n",
    "\n",
    "    # Truncate random T2s in order to make it <= T1s\n",
    "    T2s = np.array([min(T2s[j], 2 * T1s[j]) for j in range(nqubits)]) \n",
    "\n",
    "    # Instruction times (in nanoseconds) -> gate time: time required to execute gate instruction\n",
    "    time_u1 = 0   # virtual gate -> it is a z rotation\n",
    "    time_u2 = 50  # (single X90 pulse) -> single qubit double rotation x and z\n",
    "    time_u3 = 100 # (two X90 pulses) -> single qubit rotation parametrized by three euler angles\n",
    "    time_cx = 300\n",
    "    time_reset = 1000  \n",
    "    time_measure = 1000 \n",
    " \n",
    "    errors_reset = [thermal_relaxation_error(t1, t2, time_reset)\n",
    "                    for t1, t2 in zip(T1s, T2s)]\n",
    "    errors_measure = [thermal_relaxation_error(t1, t2, time_measure)\n",
    "                      for t1, t2 in zip(T1s, T2s)]\n",
    "    errors_u1  = [thermal_relaxation_error(t1, t2, time_u1)\n",
    "                  for t1, t2 in zip(T1s, T2s)]\n",
    "    errors_u2  = [thermal_relaxation_error(t1, t2, time_u2)\n",
    "                  for t1, t2 in zip(T1s, T2s)]\n",
    "    errors_u3  = [thermal_relaxation_error(t1, t2, time_u3)\n",
    "                  for t1, t2 in zip(T1s, T2s)]\n",
    "    errors_cx = [[thermal_relaxation_error(t1a, t2a, time_cx).tensor(\n",
    "                 thermal_relaxation_error(t1b, t2b, time_cx))\n",
    "                  for t1a, t2a in zip(T1s, T2s)]\n",
    "                   for t1b, t2b in zip(T1s, T2s)]\n",
    "\n",
    "    # Add errors to noise model\n",
    "    noise_thermal = NoiseModel()\n",
    "    for j in range(nqubits):\n",
    "        noise_thermal.add_quantum_error(errors_reset[j], \"reset\", [j])\n",
    "        noise_thermal.add_quantum_error(errors_measure[j], \"measure\", [j])\n",
    "        noise_thermal.add_quantum_error(errors_u1[j], \"u1\", [j])\n",
    "        noise_thermal.add_quantum_error(errors_u2[j], \"u2\", [j])\n",
    "        noise_thermal.add_quantum_error(errors_u3[j], \"u3\", [j])\n",
    "        for k in range(nqubits):\n",
    "            noise_thermal.add_quantum_error(errors_cx[j][k], \"cx\", [j, k])\n",
    "\n",
    "    print(noise_thermal)\n",
    "    return noise_thermal"
   ]
  },
  {
   "cell_type": "code",
   "execution_count": null,
   "id": "f278edbd-6ae7-41b9-8517-7fd2ce18066e",
   "metadata": {},
   "outputs": [
    {
     "name": "stdout",
     "output_type": "stream",
     "text": [
      "NoiseModel:\n",
      "  Basis gates: ['cx', 'id', 'rz', 'sx', 'u2', 'u3']\n",
      "  Instructions with noise: ['u2', 'u3', 'cx', 'measure', 'reset']\n",
      "  Qubits with noise: [0, 1, 2, 3, 4]\n",
      "  Specific qubit errors: [('reset', (0,)), ('reset', (1,)), ('reset', (2,)), ('reset', (3,)), ('reset', (4,)), ('measure', (0,)), ('measure', (1,)), ('measure', (2,)), ('measure', (3,)), ('measure', (4,)), ('u2', (0,)), ('u2', (1,)), ('u2', (2,)), ('u2', (3,)), ('u2', (4,)), ('u3', (0,)), ('u3', (1,)), ('u3', (2,)), ('u3', (3,)), ('u3', (4,)), ('cx', (0, 0)), ('cx', (0, 1)), ('cx', (0, 2)), ('cx', (0, 3)), ('cx', (0, 4)), ('cx', (1, 0)), ('cx', (1, 1)), ('cx', (1, 2)), ('cx', (1, 3)), ('cx', (1, 4)), ('cx', (2, 0)), ('cx', (2, 1)), ('cx', (2, 2)), ('cx', (2, 3)), ('cx', (2, 4)), ('cx', (3, 0)), ('cx', (3, 1)), ('cx', (3, 2)), ('cx', (3, 3)), ('cx', (3, 4)), ('cx', (4, 0)), ('cx', (4, 1)), ('cx', (4, 2)), ('cx', (4, 3)), ('cx', (4, 4))]\n"
     ]
    },
    {
     "name": "stderr",
     "output_type": "stream",
     "text": [
      "/tmp/ipykernel_59/1285787597.py:29: ComplexWarning: Casting complex values to real discards the imaginary part\n",
      "  energy_5[j] = local_result.eigenvalue\n",
      "/tmp/ipykernel_59/1285787597.py:29: ComplexWarning: Casting complex values to real discards the imaginary part\n",
      "  energy_5[j] = local_result.eigenvalue\n",
      "/tmp/ipykernel_59/1285787597.py:29: ComplexWarning: Casting complex values to real discards the imaginary part\n",
      "  energy_5[j] = local_result.eigenvalue\n"
     ]
    },
    {
     "data": {
      "image/png": "[encoded data removed]",
      "text/plain": [
       "<Figure size 432x288 with 1 Axes>"
      ]
     },
     "metadata": {
      "needs_background": "light"
     },
     "output_type": "display_data"
    }
   ],
   "source": [
    "# Quantum Phase Transition Study - Thermal relaxation noise simulation\n",
    "# 0DD PARITY SECTOR\n",
    "npme = NumPyMinimumEigensolver()\n",
    "nqubits=5\n",
    "thermal_model=thermal_rel()\n",
    "sim_noise = AerSimulator(noise_model=thermal_model)\n",
    "ansatz=EfficientSU2(nqubits, reps=3, entanglement='linear', insert_barriers=True) \n",
    "\n",
    "transpiled_ansatz=transpile(ansatz, sim_noise)\n",
    "h = [-0.4,0.,0.4] #chosen values of h to study the QPT with the presence of noise\n",
    "energy_5 = np.zeros(len(h))\n",
    "y_err = np.zeros(len(h))\n",
    "initial_point = np.random.random(ansatz.num_parameters)\n",
    "optimizer=SPSA(maxiter=2000)\n",
    "\n",
    "    \n",
    "for j in range(len(h)):\n",
    "    \n",
    "    H5 = ham_generator(nqubits,h[j],J)\n",
    "    \n",
    "    clear_info()\n",
    "    \n",
    "    local_vqe = VQE(ansatz=transpiled_ansatz,\n",
    "                optimizer=optimizer,\n",
    "                initial_point=initial_point,\n",
    "                quantum_instance=AerSimulator(noise_model=thermal_model),\n",
    "                callback=callback)\n",
    "    local_result = local_vqe.compute_minimum_eigenvalue(H5)\n",
    "    energy_5[j] = local_result.eigenvalue\n",
    "    y_err[j]=intermediate_info['stddev'][-1] # for the standard deviation on energy with different values of h \n",
    "plt.xlabel('h field')\n",
    "plt.ylabel('GS Energy')\n",
    "plt.errorbar(h,energy_5,yerr=y_err,label='VQE evaluation')\n",
    "\n",
    "plt.grid()\n",
    "plt.show()"
   ]
  },
  {
   "cell_type": "code",
   "execution_count": null,
   "id": "ca66ff72-3835-4935-b7a3-a6ce3e771d41",
   "metadata": {},
   "outputs": [
    {
     "name": "stdout",
     "output_type": "stream",
     "text": [
      "[-3.4625     -2.78710938 -2.97265625]\n"
     ]
    }
   ],
   "source": [
    "print(energy_5)"
   ]
  },
  {
   "cell_type": "code",
   "execution_count": null,
   "id": "33abe3ea-bb02-45bc-9620-e55bebbd76f8",
   "metadata": {},
   "outputs": [
    {
     "name": "stdout",
     "output_type": "stream",
     "text": [
      "NoiseModel:\n",
      "  Basis gates: ['cx', 'id', 'rz', 'sx', 'u2', 'u3']\n",
      "  Instructions with noise: ['u2', 'u3', 'cx', 'measure', 'reset']\n",
      "  Qubits with noise: [0, 1, 2, 3, 4, 5]\n",
      "  Specific qubit errors: [('reset', (0,)), ('reset', (1,)), ('reset', (2,)), ('reset', (3,)), ('reset', (4,)), ('reset', (5,)), ('measure', (0,)), ('measure', (1,)), ('measure', (2,)), ('measure', (3,)), ('measure', (4,)), ('measure', (5,)), ('u2', (0,)), ('u2', (1,)), ('u2', (2,)), ('u2', (3,)), ('u2', (4,)), ('u2', (5,)), ('u3', (0,)), ('u3', (1,)), ('u3', (2,)), ('u3', (3,)), ('u3', (4,)), ('u3', (5,)), ('cx', (0, 0)), ('cx', (0, 1)), ('cx', (0, 2)), ('cx', (0, 3)), ('cx', (0, 4)), ('cx', (0, 5)), ('cx', (1, 0)), ('cx', (1, 1)), ('cx', (1, 2)), ('cx', (1, 3)), ('cx', (1, 4)), ('cx', (1, 5)), ('cx', (2, 0)), ('cx', (2, 1)), ('cx', (2, 2)), ('cx', (2, 3)), ('cx', (2, 4)), ('cx', (2, 5)), ('cx', (3, 0)), ('cx', (3, 1)), ('cx', (3, 2)), ('cx', (3, 3)), ('cx', (3, 4)), ('cx', (3, 5)), ('cx', (4, 0)), ('cx', (4, 1)), ('cx', (4, 2)), ('cx', (4, 3)), ('cx', (4, 4)), ('cx', (4, 5)), ('cx', (5, 0)), ('cx', (5, 1)), ('cx', (5, 2)), ('cx', (5, 3)), ('cx', (5, 4)), ('cx', (5, 5))]\n"
     ]
    },
    {
     "data": {
      "image/png": "[encoded data removed]",
      "text/plain": [
       "<Figure size 432x288 with 1 Axes>"
      ]
     },
     "metadata": {
      "needs_background": "light"
     },
     "output_type": "display_data"
    }
   ],
   "source": [
    "# EVEN PARITY SECTOR\n",
    "npme = NumPyMinimumEigensolver()\n",
    "nqubits=6\n",
    "thermal_model=thermal_rel()\n",
    "sim_noise = AerSimulator(noise_model=thermal_model)\n",
    "ansatz=EfficientSU2(nqubits, reps=3, entanglement='linear', insert_barriers=True) \n",
    "\n",
    "transpiled_ansatz=transpile(ansatz, sim_noise)\n",
    "h = [-0.4,0.,0.4] #chosen values of h to study the QPT with the presence of noise\n",
    "energy_6 = np.zeros(len(h))\n",
    "y_err = np.zeros(len(h))\n",
    "initial_point = np.random.random(ansatz.num_parameters)\n",
    "optimizer=SPSA(maxiter=2000)\n",
    "\n",
    "    \n",
    "for j in range(len(h)):\n",
    "    \n",
    "    H6 = ham_generator(nqubits,h[j],J)\n",
    "    \n",
    "    clear_info()\n",
    "    \n",
    "    local_vqe = VQE(ansatz=transpiled_ansatz,\n",
    "                optimizer=optimizer,\n",
    "                initial_point=initial_point,\n",
    "                quantum_instance=AerSimulator(noise_model=thermal_model),\n",
    "                callback=callback)\n",
    "    local_result = local_vqe.compute_minimum_eigenvalue(H6)\n",
    "    energy_6[j] = np.real(local_result.eigenvalue)\n",
    "    y_err[j]=intermediate_info['stddev'][-1] \n",
    "plt.xlabel('h field')\n",
    "plt.ylabel('GS Energy')\n",
    "plt.errorbar(h,energy_6,yerr=y_err,label='VQE evaluation')\n",
    "\n",
    "plt.grid()\n",
    "plt.show()"
   ]
  },
  {
   "cell_type": "code",
   "execution_count": null,
   "id": "af24c011-3031-464c-9a86-f45a4b71c878",
   "metadata": {},
   "outputs": [
    {
     "name": "stdout",
     "output_type": "stream",
     "text": [
      "[-5.6296875  -5.44921875 -5.4515625 ]\n"
     ]
    }
   ],
   "source": [
    "print(energy_6)"
   ]
  },
  {
   "cell_type": "code",
   "execution_count": null,
   "id": "6c3ba550-36ff-42e2-a2a4-00d6f5a390c1",
   "metadata": {},
   "outputs": [
    {
     "name": "stdout",
     "output_type": "stream",
     "text": [
      "Even parity sector derivative >>  -0.45703124999999956\n",
      "Odd parity sector derivative >>  -2.152343750000001\n"
     ]
    }
   ],
   "source": [
    "# DERIVATIVES EVALUATION\n",
    "even_dx=(energy_6[2]-energy_6[1])/0.4\n",
    "even_sx=(energy_6[1]-energy_6[0])/0.4\n",
    "print('Even parity sector derivative >> ', even_dx-even_sx)\n",
    "odd_dx=(energy_5[2]-energy_5[1])/0.4\n",
    "odd_sx=(energy_5[1]-energy_5[0])/0.4\n",
    "print('Odd parity sector derivative >> ', odd_dx - odd_sx)"
   ]
  },
  {
   "cell_type": "code",
   "execution_count": null,
   "id": "2f70f839-2ac3-4c94-8d77-456aef9dfe59",
   "metadata": {},
   "outputs": [],
   "source": [
    "#IBM noise model with depolarization, relaxation after gates and bit-flip\n",
    "\n",
    "def IBM_noise_model(backend,qubits_layout):\n",
    "    \n",
    "    tg = 35 * 10**(-9) # gate time\n",
    "    \n",
    "    nqubit = len(qubits_layout)\n",
    "    \n",
    "    noise_model = NoiseModel()\n",
    "    \n",
    "    prop = backend.properties()\n",
    "    \n",
    "    t_cnot = np.zeros((nqubit,nqubit))\n",
    "        \n",
    "    p_cnot = np.zeros((nqubit,nqubit))\n",
    "    \n",
    "    \n",
    "    #Read from backend\n",
    "\n",
    "    T1 = [prop.t1(j) for j in qubits_layout]\n",
    "    T2 = [prop.t2(j) for j in qubits_layout]\n",
    "    p = [prop.gate_error('x',[j]) for j in qubits_layout]\n",
    "    rout = [prop.readout_error(j) for j in qubits_layout]\n",
    "\n",
    "    if (nqubit > 1):\n",
    "        for i in range(0,nqubit):\n",
    "            if (i == 0):\n",
    "                t_cnot[0][1] = prop.gate_length('cx',[qubits_layout[0],qubits_layout[1]])\n",
    "                p_cnot[0][1] = prop.gate_error('cx',[qubits_layout[0],qubits_layout[1]])\n",
    "            if (i != 0 and i != nqubit-1):\n",
    "                t_cnot[i][i-1] = prop.gate_length('cx',[qubits_layout[i],qubits_layout[i-1]])\n",
    "                p_cnot[i][i-1] = prop.gate_error('cx',[qubits_layout[i],qubits_layout[i-1]])\n",
    "                t_cnot[i][i+1] = prop.gate_length('cx',[qubits_layout[i],qubits_layout[i+1]])\n",
    "                p_cnot[i][i+1] = prop.gate_error('cx',[qubits_layout[i],qubits_layout[i+1]])\n",
    "            if (i == nqubit-1):\n",
    "                t_cnot[i][i-1] = prop.gate_length('cx',[qubits_layout[i],qubits_layout[i-1]])\n",
    "                p_cnot[i][i-1] = prop.gate_error('cx',[qubits_layout[i],qubits_layout[i-1]])\n",
    "    \n",
    "   \n",
    "        \n",
    "    for j in range(0,nqubit):\n",
    "        \n",
    "        #single qubit depolarizing\n",
    "        \n",
    "        dep = depolarizing_error(p[j],1)\n",
    "        \n",
    "        #single qubit relaxation\n",
    "        \n",
    "        Tph = T1[j] * T2[j] / (2 * T1[j] - T2[j])\n",
    "        p1 = 1 - exp(-tg/T1[j])\n",
    "        p_ph = 1 - exp(-tg/Tph)\n",
    "        pz = (1 - p1) * p_ph\n",
    "          \n",
    "        relax = phase_amplitude_damping_error(p1,pz)\n",
    "        \n",
    "        # pauli X error          \n",
    "        spam = pauli_error([('X',rout[j]), ('I', 1 - rout[j])])\n",
    "        \n",
    "        #adding errors to noise model\n",
    "        \n",
    "        single_qubit_gate_error = dep.compose(relax)\n",
    "        \n",
    "        noise_model.add_quantum_error(single_qubit_gate_error, [\"x\",\"sx\"],[qubits_layout[j]])\n",
    "        \n",
    "        noise_model.add_quantum_error(spam, \"measure\",[qubits_layout[j]])\n",
    "        \n",
    "\n",
    "        \n",
    "    for j in range(0,nqubit):\n",
    "        for k in range(0,nqubit):\n",
    "            if (k == j+1 or k == j-1):\n",
    "                \n",
    "                #two qubits relaxation\n",
    "            \n",
    "                Tph_j = T1[j] * T2[j] / (2 * T1[j] - T2[j])\n",
    "                p1_j = 1 - exp(-t_cnot[j][k]/T1[j])\n",
    "                p_ph_j = 1 - exp(-t_cnot[j][k]/Tph_j)\n",
    "                pz_j = (1 - p1_j) * p_ph_j\n",
    "                \n",
    "                Tph_k = T1[k] * T2[k] / (2 * T1[k] - T2[k])\n",
    "                p1_k = 1 - exp(-t_cnot[j][k]/T1[k])\n",
    "                p_ph_k = 1 - exp(-t_cnot[j][k]/Tph_k)\n",
    "                pz_k = (1 - p1_k) * p_ph_k\n",
    "        \n",
    "                relax_j = phase_amplitude_damping_error(p1_j,pz_j)\n",
    "                relax_k = phase_amplitude_damping_error(p1_k,pz_k)\n",
    "                relax_jk = relax_k.tensor(relax_j)\n",
    "   \n",
    "                \n",
    "                #two qubits depolarizing\n",
    "                \n",
    "                dep_j = depolarizing_error(p_cnot[j][k],1)\n",
    "                dep_k = depolarizing_error(p_cnot[j][k],1)\n",
    "                dep_cnot = dep_k.tensor(dep_j) \n",
    "                \n",
    "                #adding errors to noise model\n",
    "                \n",
    "                two_qubits_gate_error = dep_cnot.compose(relax_jk)\n",
    "                \n",
    "                noise_model.add_quantum_error(two_qubits_gate_error, \"cx\",[qubits_layout[j],qubits_layout[k]])\n",
    "                \n",
    "    print('t_cnot:',t_cnot)\n",
    "    print('p_cnot:',p_cnot)\n",
    "    print('T1:',T1)\n",
    "    print('T2:',T2)\n",
    "    print('p:',p)\n",
    "    print('rout:',rout)\n",
    "    return noise_model"
   ]
  },
  {
   "cell_type": "code",
   "execution_count": null,
   "id": "9578909a-0394-41a8-b4e8-9b27b46429fb",
   "metadata": {},
   "outputs": [
    {
     "name": "stdout",
     "output_type": "stream",
     "text": [
      "NoiseModel:\n",
      "  Basis gates: ['cx', 'id', 'rz', 'sx', 'x']\n",
      "  Instructions with noise: ['cx', 'measure', 'x', 'sx']\n",
      "  Qubits with noise: [0, 1, 3, 5, 6]\n",
      "  Specific qubit errors: [('x', (0,)), ('x', (1,)), ('x', (3,)), ('x', (5,)), ('x', (6,)), ('sx', (0,)), ('sx', (1,)), ('sx', (3,)), ('sx', (5,)), ('sx', (6,)), ('measure', (0,)), ('measure', (1,)), ('measure', (3,)), ('measure', (5,)), ('measure', (6,)), ('cx', (0, 1)), ('cx', (1, 0)), ('cx', (1, 3)), ('cx', (3, 1)), ('cx', (3, 5)), ('cx', (5, 3)), ('cx', (5, 6)), ('cx', (6, 5))]\n"
     ]
    }
   ],
   "source": [
    "IBMQ.delete_account()\n",
    "Token = '6d37dcb82419b3d0715e180cc619e6714bca8646b86cf69f54bcc756743eb8c71219a9ea2dfa468f7d1dae7663e9b0ab7d053d98fccc169aa7a15cc0ce914aaa'\n",
    "IBMQ.save_account(Token)\n",
    "provider = IBMQ.load_account()\n",
    "provider = IBMQ.get_provider()\n",
    "\n",
    "backend = provider.get_backend(\"ibm_oslo\")\n",
    "plot_gate_map(backend)\n",
    "qubits_layout=[0,1,3,5,6]\n",
    "ibm_noise=IBM_noise_model(backend,qubits_layout)\n",
    "print(ibm_noise)"
   ]
  },
  {
   "cell_type": "code",
   "execution_count": null,
   "id": "cce01e49-31c7-44c8-8cf3-0b01ea1ab16b",
   "metadata": {},
   "outputs": [
    {
     "name": "stderr",
     "output_type": "stream",
     "text": [
      "/tmp/ipykernel_93/4282000097.py:28: ComplexWarning: Casting complex values to real discards the imaginary part\n",
      "  energy_5[j] = local_result.eigenvalue\n",
      "/tmp/ipykernel_93/4282000097.py:28: ComplexWarning: Casting complex values to real discards the imaginary part\n",
      "  energy_5[j] = local_result.eigenvalue\n",
      "/tmp/ipykernel_93/4282000097.py:28: ComplexWarning: Casting complex values to real discards the imaginary part\n",
      "  energy_5[j] = local_result.eigenvalue\n",
      "/tmp/ipykernel_93/4282000097.py:28: ComplexWarning: Casting complex values to real discards the imaginary part\n",
      "  energy_5[j] = local_result.eigenvalue\n",
      "/tmp/ipykernel_93/4282000097.py:28: ComplexWarning: Casting complex values to real discards the imaginary part\n",
      "  energy_5[j] = local_result.eigenvalue\n",
      "/tmp/ipykernel_93/4282000097.py:28: ComplexWarning: Casting complex values to real discards the imaginary part\n",
      "  energy_5[j] = local_result.eigenvalue\n",
      "/tmp/ipykernel_93/4282000097.py:28: ComplexWarning: Casting complex values to real discards the imaginary part\n",
      "  energy_5[j] = local_result.eigenvalue\n",
      "/tmp/ipykernel_93/4282000097.py:28: ComplexWarning: Casting complex values to real discards the imaginary part\n",
      "  energy_5[j] = local_result.eigenvalue\n",
      "/tmp/ipykernel_93/4282000097.py:28: ComplexWarning: Casting complex values to real discards the imaginary part\n",
      "  energy_5[j] = local_result.eigenvalue\n",
      "/tmp/ipykernel_93/4282000097.py:28: ComplexWarning: Casting complex values to real discards the imaginary part\n",
      "  energy_5[j] = local_result.eigenvalue\n"
     ]
    },
    {
     "data": {
      "image/png": "[encoded data removed]",
      "text/plain": [
       "<Figure size 432x288 with 1 Axes>"
      ]
     },
     "metadata": {
      "needs_background": "light"
     },
     "output_type": "display_data"
    }
   ],
   "source": [
    "# VQE GS ENERGY EVALUATION WITH VARYING MAGNETIC FIELD\n",
    "# 0DD PARITY SECTOR\n",
    "npme = NumPyMinimumEigensolver()\n",
    "nqubits=5\n",
    "sim_noise = AerSimulator(noise_model=ibm_noise)\n",
    "ansatz=EfficientSU2(nqubits, reps=3, entanglement='linear', insert_barriers=True) \n",
    "\n",
    "transpiled_ansatz=transpile(ansatz, sim_noise)\n",
    "h = np.linspace(-2,2,10) #chosen values of h to study the QPT with the presence of noise\n",
    "energy_5 = np.zeros(len(h))\n",
    "y_err = np.zeros(len(h))\n",
    "initial_point = np.random.random(ansatz.num_parameters)\n",
    "optimizer=SPSA(maxiter=2000)\n",
    "\n",
    "    \n",
    "for j in range(len(h)):\n",
    "    \n",
    "    H5 = ham_generator(nqubits,h[j],J)\n",
    "    \n",
    "    clear_info()\n",
    "    \n",
    "    local_vqe = VQE(ansatz=transpiled_ansatz,\n",
    "                optimizer=optimizer,\n",
    "                initial_point=initial_point,\n",
    "                quantum_instance=AerSimulator(noise_model=ibm_noise),\n",
    "                callback=callback)\n",
    "    local_result = local_vqe.compute_minimum_eigenvalue(H5)\n",
    "    energy_5[j] = local_result.eigenvalue\n",
    "    y_err[j]=intermediate_info['stddev'][-1] # for the standard deviation on energy with different values of h \n",
    "plt.xlabel('h field')\n",
    "plt.ylabel('GS Energy')\n",
    "plt.errorbar(h,energy_5,yerr=y_err,label='VQE evaluation')\n",
    "\n",
    "plt.grid()\n",
    "plt.show()"
   ]
  },
  {
   "cell_type": "code",
   "execution_count": null,
   "id": "07506bd7-e601-447f-ac25-ab9eb766640b",
   "metadata": {},
   "outputs": [
    {
     "name": "stdout",
     "output_type": "stream",
     "text": [
      "[-10.13671875  -7.65364583  -6.04210069  -4.44140625  -3.22699653\n",
      "  -3.10677083  -4.39713542  -6.09418403  -7.80338542  -9.92578125]\n"
     ]
    }
   ],
   "source": [
    "print(energy_5)"
   ]
  },
  {
   "cell_type": "code",
   "execution_count": null,
   "id": "9b7f8579-3a60-4424-b637-5e3e650052b9",
   "metadata": {},
   "outputs": [
    {
     "name": "stdout",
     "output_type": "stream",
     "text": [
      "zero found in position >> 5\n",
      "spacing used to calculate the derivative >>  0.4\n",
      "numerical derivative of E(h), h->0+ >> -3.2259114583333313\n",
      "zero found in position >> 5\n",
      "spacing used to calculate the derivative >>  0.4\n",
      "numerical derivative of E(h), h->0- >> 0.3005642361111116\n",
      "Odd parity sector derivative >>  -3.526475694444443\n"
     ]
    }
   ],
   "source": [
    "# DERIVATIVES EVALUATION\n",
    "even_dx = f_derivative(-2,2,energy_5,10)\n",
    "even_sx = b_derivative(-2,2,energy_5,10)\n",
    "print('Odd parity sector derivative >> ', even_dx-even_sx)\n",
    "# in the even parity sector the derivative exists"
   ]
  },
  {
   "cell_type": "code",
   "execution_count": null,
   "id": "9730e99c-8739-4546-a3f6-f0cd719cb463",
   "metadata": {},
   "outputs": [
    {
     "name": "stdout",
     "output_type": "stream",
     "text": [
      "t_cnot: [[0.00000000e+00 3.41333333e-07 0.00000000e+00 0.00000000e+00\n",
      "  0.00000000e+00]\n",
      " [4.12444444e-07 0.00000000e+00 3.76888889e-07 0.00000000e+00\n",
      "  0.00000000e+00]\n",
      " [0.00000000e+00 4.12444444e-07 0.00000000e+00 2.38222222e-07\n",
      "  0.00000000e+00]\n",
      " [0.00000000e+00 0.00000000e+00 1.67111111e-07 0.00000000e+00\n",
      "  4.05333333e-07]\n",
      " [0.00000000e+00 0.00000000e+00 0.00000000e+00 3.34222222e-07\n",
      "  0.00000000e+00]]\n",
      "p_cnot: [[0.         0.00772511 0.         0.         0.        ]\n",
      " [0.00772511 0.         0.00972714 0.         0.        ]\n",
      " [0.         0.00972714 0.         0.00526535 0.        ]\n",
      " [0.         0.         0.00526535 0.         0.00747128]\n",
      " [0.         0.         0.         0.00747128 0.        ]]\n",
      "T1: [0.0001327154544706413, 0.00017375073072474782, 8.829103572384231e-05, 0.00010916569948968134, 0.00013536117528431294]\n",
      "T2: [0.00015833918001215141, 3.070124340580053e-05, 3.217539799672105e-05, 3.188331592878536e-05, 0.0002536360517313913]\n",
      "p: [0.0001631730528065976, 0.00023545605068947062, 0.0003820077670635301, 0.00045535122310051847, 0.00024488693095083035]\n",
      "rout: [0.010499999999999954, 0.020000000000000018, 0.023299999999999987, 0.016599999999999948, 0.1471]\n"
     ]
    },
    {
     "data": {
      "text/plain": [
       "<NoiseModel on ['cx', 'measure', 'x', 'sx']>"
      ]
     },
     "execution_count": 15,
     "metadata": {},
     "output_type": "execute_result"
    }
   ],
   "source": [
    "IBM_noise_model(backend,qubits_layout)"
   ]
  },
  {
   "cell_type": "code",
   "execution_count": null,
   "id": "9d951945-a5f3-43c6-9306-eaf7860db7cb",
   "metadata": {},
   "outputs": [
    {
     "name": "stderr",
     "output_type": "stream",
     "text": [
      "ibmqfactory.load_account:WARNING:2023-01-08 11:45:42,811: Credentials are already in use. The existing account in the session will be replaced.\n"
     ]
    },
    {
     "name": "stdout",
     "output_type": "stream",
     "text": [
      "NoiseModel:\n",
      "  Basis gates: ['cx', 'id', 'rz', 'sx', 'x']\n",
      "  Instructions with noise: ['sx', 'x', 'cx', 'measure']\n",
      "  Qubits with noise: [0, 1, 3, 5]\n",
      "  Specific qubit errors: [('x', (0,)), ('x', (1,)), ('x', (3,)), ('x', (5,)), ('sx', (0,)), ('sx', (1,)), ('sx', (3,)), ('sx', (5,)), ('measure', (0,)), ('measure', (1,)), ('measure', (3,)), ('measure', (5,)), ('cx', (0, 1)), ('cx', (1, 0)), ('cx', (1, 3)), ('cx', (3, 1)), ('cx', (3, 5)), ('cx', (5, 3))]\n"
     ]
    }
   ],
   "source": [
    "IBMQ.delete_account()\n",
    "Token = '6d37dcb82419b3d0715e180cc619e6714bca8646b86cf69f54bcc756743eb8c71219a9ea2dfa468f7d1dae7663e9b0ab7d053d98fccc169aa7a15cc0ce914aaa'\n",
    "IBMQ.save_account(Token)\n",
    "provider = IBMQ.load_account()\n",
    "provider = IBMQ.get_provider()\n",
    "\n",
    "backend = provider.get_backend(\"ibm_oslo\")\n",
    "plot_gate_map(backend)\n",
    "qubits_layout=[0,1,3,5]\n",
    "ibm_noise=IBM_noise_model(backend,qubits_layout)\n",
    "print(ibm_noise)"
   ]
  },
  {
   "cell_type": "code",
   "execution_count": null,
   "id": "47d64039-9917-4ae3-aec9-178717cc5fb2",
   "metadata": {},
   "outputs": [
    {
     "name": "stderr",
     "output_type": "stream",
     "text": [
      "/tmp/ipykernel_59/1776159353.py:29: ComplexWarning: Casting complex values to real discards the imaginary part\n",
      "  energy_4[j] = local_result.eigenvalue\n",
      "/tmp/ipykernel_59/1776159353.py:29: ComplexWarning: Casting complex values to real discards the imaginary part\n",
      "  energy_4[j] = local_result.eigenvalue\n",
      "/tmp/ipykernel_59/1776159353.py:29: ComplexWarning: Casting complex values to real discards the imaginary part\n",
      "  energy_4[j] = local_result.eigenvalue\n",
      "/tmp/ipykernel_59/1776159353.py:29: ComplexWarning: Casting complex values to real discards the imaginary part\n",
      "  energy_4[j] = local_result.eigenvalue\n",
      "/tmp/ipykernel_59/1776159353.py:29: ComplexWarning: Casting complex values to real discards the imaginary part\n",
      "  energy_4[j] = local_result.eigenvalue\n",
      "/tmp/ipykernel_59/1776159353.py:29: ComplexWarning: Casting complex values to real discards the imaginary part\n",
      "  energy_4[j] = local_result.eigenvalue\n",
      "/tmp/ipykernel_59/1776159353.py:29: ComplexWarning: Casting complex values to real discards the imaginary part\n",
      "  energy_4[j] = local_result.eigenvalue\n",
      "/tmp/ipykernel_59/1776159353.py:29: ComplexWarning: Casting complex values to real discards the imaginary part\n",
      "  energy_4[j] = local_result.eigenvalue\n",
      "/tmp/ipykernel_59/1776159353.py:29: ComplexWarning: Casting complex values to real discards the imaginary part\n",
      "  energy_4[j] = local_result.eigenvalue\n",
      "/tmp/ipykernel_59/1776159353.py:29: ComplexWarning: Casting complex values to real discards the imaginary part\n",
      "  energy_4[j] = local_result.eigenvalue\n"
     ]
    },
    {
     "data": {
      "image/png": "[encoded data removed]",
      "text/plain": [
       "<Figure size 432x288 with 1 Axes>"
      ]
     },
     "metadata": {
      "needs_background": "light"
     },
     "output_type": "display_data"
    }
   ],
   "source": [
    "# VQE GS ENERGY EVALUATION WITH VARYING MAGNETIC FIELD\n",
    "# 0DD PARITY SECTOR\n",
    "J=1.0\n",
    "npme = NumPyMinimumEigensolver()\n",
    "nqubits=4\n",
    "sim_noise = AerSimulator(noise_model=ibm_noise)\n",
    "ansatz=EfficientSU2(nqubits, reps=3, entanglement='linear', insert_barriers=True) \n",
    "\n",
    "transpiled_ansatz=transpile(ansatz, sim_noise)\n",
    "h = np.linspace(-2,2,10) #chosen values of h to study the QPT with the presence of noise\n",
    "energy_4 = np.zeros(len(h))\n",
    "y_err = np.zeros(len(h))\n",
    "initial_point = np.random.random(ansatz.num_parameters)\n",
    "optimizer=SPSA(maxiter=2000)\n",
    "\n",
    "    \n",
    "for j in range(len(h)):\n",
    "    \n",
    "    H5 = ham_generator(nqubits,h[j],J)\n",
    "    \n",
    "    clear_info()\n",
    "    \n",
    "    local_vqe = VQE(ansatz=transpiled_ansatz,\n",
    "                optimizer=optimizer,\n",
    "                initial_point=initial_point,\n",
    "                quantum_instance=AerSimulator(noise_model=ibm_noise),\n",
    "                callback=callback)\n",
    "    local_result = local_vqe.compute_minimum_eigenvalue(H5)\n",
    "    energy_4[j] = local_result.eigenvalue\n",
    "    y_err[j]=intermediate_info['stddev'][-1] # for the standard deviation on energy with different values of h \n",
    "plt.xlabel('h field')\n",
    "plt.ylabel('GS Energy')\n",
    "plt.errorbar(h,energy_4,yerr=y_err,label='VQE evaluation')\n",
    "\n",
    "plt.grid()\n",
    "plt.show()"
   ]
  },
  {
   "cell_type": "code",
   "execution_count": null,
   "id": "4ec438a0-5eb5-40b9-9f24-3a39988fcb26",
   "metadata": {},
   "outputs": [
    {
     "name": "stdout",
     "output_type": "stream",
     "text": [
      "[-7.90234375 -6.57248264 -4.94097222 -4.15755208 -3.57942708 -3.71180556\n",
      " -4.12890625 -5.03168403 -6.47048611 -7.9765625 ]\n"
     ]
    }
   ],
   "source": [
    "print(energy_4)"
   ]
  },
  {
   "cell_type": "code",
   "execution_count": null,
   "id": "98575b5a-9d03-4992-879b-2e2ea2fa46a9",
   "metadata": {},
   "outputs": [
    {
     "name": "stdout",
     "output_type": "stream",
     "text": [
      "zero found in position >> 5\n",
      "spacing used to calculate the derivative >>  0.4\n",
      "numerical derivative of E(h), h->0+ >> -1.0427517361111127\n",
      "zero found in position >> 5\n",
      "spacing used to calculate the derivative >>  0.4\n",
      "numerical derivative of E(h), h->0- >> -0.3309461805555536\n",
      "Even parity sector derivative >>  -0.7118055555555591\n"
     ]
    }
   ],
   "source": [
    "# DERIVATIVES EVALUATION\n",
    "even_dx = f_derivative(-2,2,energy_4,10)\n",
    "even_sx = b_derivative(-2,2,energy_4,10)\n",
    "print('Even parity sector derivative >> ', even_dx-even_sx)\n",
    "# in the even parity sector the derivative exists"
   ]
  }
 ],
 "metadata": {
  "kernelspec": {
   "display_name": "Python 3 (ipykernel)",
   "language": "python",
   "name": "python3"
  },
  "language_info": {
   "codemirror_mode": {
    "name": "ipython",
    "version": 3
   },
   "file_extension": ".py",
   "mimetype": "text/x-python",
   "name": "python",
   "nbconvert_exporter": "python",
   "pygments_lexer": "ipython3",
   "version": "3.8.13"
  },
  "widgets": {
   "application/vnd.jupyter.widget-state+json": {
    "state": {},
    "version_major": 2,
    "version_minor": 0
   }
  }
 },
 "nbformat": 4,
 "nbformat_minor": 5
}
